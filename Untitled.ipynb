{
 "cells": [
  {
   "cell_type": "code",
   "execution_count": 3,
   "id": "c73b1cb8",
   "metadata": {},
   "outputs": [
    {
     "name": "stdout",
     "output_type": "stream",
     "text": [
      "testAttackHasNoParams (__main__.TestSoldier.testAttackHasNoParams) ... ok\r\n",
      "testAttackRetunsStrength (__main__.TestSoldier.testAttackRetunsStrength) ... ok\r\n",
      "testAttackShouldBeFunction (__main__.TestSoldier.testAttackShouldBeFunction) ... ok\r\n",
      "testCanReceiveDamage (__main__.TestSoldier.testCanReceiveDamage) ... ok\r\n",
      "testConstructorSignature (__main__.TestSoldier.testConstructorSignature) ... ok\r\n",
      "testHealth (__main__.TestSoldier.testHealth) ... ok\r\n",
      "testReceiveDamageReturnNone (__main__.TestSoldier.testReceiveDamageReturnNone) ... ok\r\n",
      "testReceivesDamage (__main__.TestSoldier.testReceivesDamage) ... ok\r\n",
      "testReceivesDamageHasParams (__main__.TestSoldier.testReceivesDamageHasParams) ... ok\r\n",
      "testStrength (__main__.TestSoldier.testStrength) ... ok\r\n",
      "\r\n",
      "----------------------------------------------------------------------\r\n",
      "Ran 10 tests in 0.000s\r\n",
      "\r\n",
      "OK\r\n"
     ]
    }
   ],
   "source": [
    "!python3 1-testsSoldier.py --v"
   ]
  },
  {
   "cell_type": "code",
   "execution_count": null,
   "id": "1a2582c1",
   "metadata": {},
   "outputs": [],
   "source": []
  }
 ],
 "metadata": {
  "kernelspec": {
   "display_name": "Python 3 (ipykernel)",
   "language": "python",
   "name": "python3"
  },
  "language_info": {
   "codemirror_mode": {
    "name": "ipython",
    "version": 3
   },
   "file_extension": ".py",
   "mimetype": "text/x-python",
   "name": "python",
   "nbconvert_exporter": "python",
   "pygments_lexer": "ipython3",
   "version": "3.11.7"
  }
 },
 "nbformat": 4,
 "nbformat_minor": 5
}
